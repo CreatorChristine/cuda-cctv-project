{
 "cells": [
  {
   "cell_type": "markdown",
   "id": "b95d66ef",
   "metadata": {},
   "source": [
    "## FINAL PROJECT CODE"
   ]
  },
  {
   "cell_type": "markdown",
   "id": "e95bc94f",
   "metadata": {},
   "source": [
    "총 버전의 코드를 저장하고 돌릴 환경입니다. ^^"
   ]
  }
 ],
 "metadata": {
  "language_info": {
   "name": "python"
  }
 },
 "nbformat": 4,
 "nbformat_minor": 5
}
