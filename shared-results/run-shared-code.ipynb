{
 "cells": [
  {
   "cell_type": "markdown",
   "id": "d40a3830",
   "metadata": {},
   "source": [
    "## SHARED CODE PLAYGROUND"
   ]
  },
  {
   "cell_type": "markdown",
   "id": "6a163156",
   "metadata": {},
   "source": [
    "코드를 돌려 볼 수 있는 테스팅 환경입니다. 같이 보고 공유 하기 편하게 만들었습니다."
   ]
  }
 ],
 "metadata": {
  "language_info": {
   "name": "python"
  }
 },
 "nbformat": 4,
 "nbformat_minor": 5
}
